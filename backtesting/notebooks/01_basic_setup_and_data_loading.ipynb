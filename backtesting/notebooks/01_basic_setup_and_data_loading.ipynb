{
 "cells": [
  {
   "cell_type": "markdown",
   "metadata": {},
   "source": [
    "# Getting Started with the Backtester\n",
    "\n",
    "This notebook demonstrates:\n",
    "1. Setting up the environment\n",
    "2. Generating sample data\n",
    "3. Loading and validating data\n",
    "4. Basic configuration\n",
    "5. Running a simple backtest"
   ]
  },
  {
   "cell_type": "code",
   "execution_count": null,
   "metadata": {},
   "outputs": [],
   "source": [
    "import sys\n",
    "sys.path.append('..')\n",
    "\n",
    "import pandas as pd\n",
    "import numpy as np\n",
    "import matplotlib.pyplot as plt\n",
    "\n",
    "from backtesting import Backtester, BacktestConfig, DataManager\n",
    "from generate_sample_data import generate_sample_data\n",
    "\n",
    "%matplotlib inline\n",
    "plt.style.use('seaborn-v0_8-darkgrid')"
   ]
  },
  {
   "cell_type": "markdown",
   "metadata": {},
   "source": [
    "## Step 1: Generate Sample Data\n",
    "\n",
    "Let's generate sample data for 1500 securities over 1250 trading days."
   ]
  },
  {
   "cell_type": "code",
   "execution_count": null,
   "metadata": {},
   "outputs": [],
   "source": [
    "generate_sample_data(\n",
    "    n_securities=1500,\n",
    "    n_days=1250,\n",
    "    n_factors=5,\n",
    "    output_dir='../sample_data',\n",
    "    seed=42\n",
    ")"
   ]
  },
  {
   "cell_type": "markdown",
   "metadata": {},
   "source": [
    "## Step 2: Load Data\n",
    "\n",
    "Use the DataManager to load all data files."
   ]
  },
  {
   "cell_type": "code",
   "execution_count": null,
   "metadata": {},
   "outputs": [],
   "source": [
    "data_manager = DataManager(data_dir='../sample_data', use_float32=True)\n",
    "\n",
    "# Load required data\n",
    "prices = data_manager.load_prices()\n",
    "adv = data_manager.load_adv()\n",
    "betas = data_manager.load_betas()\n",
    "sector_mapping = data_manager.load_sector_mapping()\n",
    "\n",
    "print(f\"\\nData loaded successfully!\")\n",
    "print(f\"Price data shape: {prices.shape}\")\n",
    "print(f\"Date range: {prices.index[0].date()} to {prices.index[-1].date()}\")\n",
    "print(f\"Number of securities: {len(prices.columns)}\")"
   ]
  },
  {
   "cell_type": "markdown",
   "metadata": {},
   "source": [
    "## Step 3: Explore the Data"
   ]
  },
  {
   "cell_type": "code",
   "execution_count": null,
   "metadata": {},
   "outputs": [],
   "source": [
    "# Plot some sample prices\n",
    "fig, axes = plt.subplots(2, 2, figsize=(15, 10))\n",
    "\n",
    "# Price series\n",
    "axes[0, 0].plot(prices.iloc[:, :5])\n",
    "axes[0, 0].set_title('Sample Price Series')\n",
    "axes[0, 0].set_xlabel('Date')\n",
    "axes[0, 0].set_ylabel('Price ($)')\n",
    "\n",
    "# ADV distribution\n",
    "axes[0, 1].hist(adv.iloc[0], bins=30, edgecolor='black')\n",
    "axes[0, 1].set_title('ADV Distribution')\n",
    "axes[0, 1].set_xlabel('ADV (shares)')\n",
    "axes[0, 1].set_ylabel('Frequency')\n",
    "\n",
    "# Beta distribution\n",
    "axes[1, 0].hist(betas.iloc[0], bins=30, edgecolor='black')\n",
    "axes[1, 0].set_title('Beta Distribution')\n",
    "axes[1, 0].set_xlabel('Beta')\n",
    "axes[1, 0].set_ylabel('Frequency')\n",
    "\n",
    "# Sector distribution\n",
    "sector_counts = sector_mapping['sector'].value_counts()\n",
    "axes[1, 1].bar(range(len(sector_counts)), sector_counts.values)\n",
    "axes[1, 1].set_title('Securities per Sector')\n",
    "axes[1, 1].set_xlabel('Sector')\n",
    "axes[1, 1].set_ylabel('Count')\n",
    "axes[1, 1].set_xticks(range(len(sector_counts)))\n",
    "axes[1, 1].set_xticklabels(sector_counts.index, rotation=45, ha='right')\n",
    "\n",
    "plt.tight_layout()\n",
    "plt.show()"
   ]
  },
  {
   "cell_type": "markdown",
   "metadata": {},
   "source": [
    "## Step 4: Validate Data\n",
    "\n",
    "Check for data quality issues."
   ]
  },
  {
   "cell_type": "code",
   "execution_count": null,
   "metadata": {},
   "outputs": [],
   "source": [
    "issues = data_manager.validate_data()\n",
    "\n",
    "if issues:\n",
    "    print(\"Data validation issues:\")\n",
    "    for issue in issues:\n",
    "        print(f\"  - {issue}\")\n",
    "else:\n",
    "    print(\"✓ Data validation passed!\")"
   ]
  },
  {
   "cell_type": "markdown",
   "metadata": {},
   "source": [
    "## Step 5: Configure a Simple Backtest\n",
    "\n",
    "Create a basic configuration for an equal-weight portfolio."
   ]
  },
  {
   "cell_type": "code",
   "execution_count": null,
   "metadata": {},
   "outputs": [],
   "source": [
    "config = BacktestConfig(\n",
    "    initial_cash=10_000_000,\n",
    "    max_adv_participation=0.05,\n",
    "    tc_power=1.5,\n",
    "    tc_coefficient=0.01,\n",
    "    enable_beta_hedge=False,\n",
    "    enable_sector_hedge=False,\n",
    "    risk_free_rate=0.02\n",
    ")\n",
    "\n",
    "print(\"Configuration created:\")\n",
    "print(f\"  Initial cash: ${config.initial_cash:,.0f}\")\n",
    "print(f\"  Max ADV participation: {config.max_adv_participation:.1%}\")\n",
    "print(f\"  Transaction cost power: {config.tc_power}\")"
   ]
  },
  {
   "cell_type": "markdown",
   "metadata": {},
   "source": [
    "## Step 6: Run a Simple Backtest\n",
    "\n",
    "Run a backtest with equal-weight target positions (Use Case 1)."
   ]
  },
  {
   "cell_type": "code",
   "execution_count": null,
   "metadata": {},
   "outputs": [],
   "source": [
    "# Create equal-weight targets for each day\n",
    "target_weights = pd.read_csv('../sample_data/target_weights.csv', index_col=0, parse_dates=True)\n",
    "\n",
    "# Convert to dictionary format\n",
    "targets_by_date = {\n",
    "    date: target_weights.loc[date].to_dict()\n",
    "    for date in target_weights.index\n",
    "}\n",
    "\n",
    "inputs = {\n",
    "    'type': 'weights',\n",
    "    'targets': targets_by_date\n",
    "}\n",
    "\n",
    "# Initialize backtester\n",
    "backtester = Backtester(config, data_manager)\n",
    "\n",
    "# Run backtest\n",
    "results = backtester.run(\n",
    "    start_date=pd.Timestamp('2023-01-02'),\n",
    "    end_date=pd.Timestamp('2023-12-31'),\n",
    "    use_case=1,\n",
    "    inputs=inputs,\n",
    "    show_progress=True\n",
    ")"
   ]
  },
  {
   "cell_type": "markdown",
   "metadata": {},
   "source": [
    "## Step 7: Analyze Results"
   ]
  },
  {
   "cell_type": "code",
   "execution_count": null,
   "metadata": {},
   "outputs": [],
   "source": [
    "# Print summary\n",
    "results.print_summary()\n",
    "\n",
    "# Get metrics\n",
    "metrics = results.calculate_metrics()\n",
    "\n",
    "print(f\"\\nKey Metrics:\")\n",
    "print(f\"  Total Return: {metrics['total_return']:.2%}\")\n",
    "print(f\"  Sharpe Ratio: {metrics['sharpe_ratio']:.2f}\")\n",
    "print(f\"  Max Drawdown: {metrics['max_drawdown']:.2%}\")\n",
    "print(f\"  Win Rate: {metrics['win_rate']:.2%}\")"
   ]
  },
  {
   "cell_type": "markdown",
   "metadata": {},
   "source": [
    "## Step 8: Visualize Results"
   ]
  },
  {
   "cell_type": "code",
   "execution_count": null,
   "metadata": {},
   "outputs": [],
   "source": [
    "# Convert to DataFrame for plotting\n",
    "results_df = results.to_dataframe()\n",
    "\n",
    "fig, axes = plt.subplots(2, 2, figsize=(15, 10))\n",
    "\n",
    "# Cumulative returns\n",
    "cum_returns = (results_df['portfolio_value'] / results_df['portfolio_value'].iloc[0] - 1) * 100\n",
    "axes[0, 0].plot(results_df['date'], cum_returns)\n",
    "axes[0, 0].set_title('Cumulative Returns')\n",
    "axes[0, 0].set_ylabel('Return (%)')\n",
    "axes[0, 0].grid(True, alpha=0.3)\n",
    "\n",
    "# Daily PnL\n",
    "axes[0, 1].bar(results_df['date'], results_df['daily_pnl'], alpha=0.7)\n",
    "axes[0, 1].set_title('Daily PnL')\n",
    "axes[0, 1].set_ylabel('PnL ($)')\n",
    "axes[0, 1].grid(True, alpha=0.3, axis='y')\n",
    "\n",
    "# Exposures\n",
    "axes[1, 0].plot(results_df['date'], results_df['gross_exposure'], label='Gross')\n",
    "axes[1, 0].plot(results_df['date'], results_df['net_exposure'], label='Net')\n",
    "axes[1, 0].set_title('Portfolio Exposures')\n",
    "axes[1, 0].set_ylabel('Exposure ($)')\n",
    "axes[1, 0].legend()\n",
    "axes[1, 0].grid(True, alpha=0.3)\n",
    "\n",
    "# Transaction costs\n",
    "cum_costs = results_df['transaction_cost'].cumsum()\n",
    "axes[1, 1].plot(results_df['date'], cum_costs)\n",
    "axes[1, 1].set_title('Cumulative Transaction Costs')\n",
    "axes[1, 1].set_ylabel('Cost ($)')\n",
    "axes[1, 1].grid(True, alpha=0.3)\n",
    "\n",
    "plt.tight_layout()\n",
    "plt.show()"
   ]
  },
  {
   "cell_type": "markdown",
   "metadata": {},
   "source": [
    "## Step 9: Generate Full Report"
   ]
  },
  {
   "cell_type": "code",
   "execution_count": null,
   "metadata": {},
   "outputs": [],
   "source": [
    "# Generate all reports\n",
    "results.generate_full_report(\n",
    "    output_dir='../output/basic_backtest',\n",
    "    formats=['pdf', 'html', 'excel', 'csv', 'pdf']\n",
    ")\n",
    "\n",
    "print(\"Reports generated! Check the '../output/basic_backtest' directory.\")\n",
    "print(\"  - backtest_report.pdf   (Professional PDF report)\")\n",
    "print(\"  - backtest_report.html  (Interactive HTML report)\")\n",
    "print(\"  - backtest_report.xlsx  (Excel workbook)\")\n",
    "print(\"  - backtest_results.csv  (Daily performance data)\")\n",
    "print(\"  - charts/               (Individual chart images)\")"
   ]
  },
  {
   "cell_type": "markdown",
   "metadata": {},
   "source": [
    "## Summary\n",
    "\n",
    "In this notebook, we:\n",
    "1. ✓ Generated sample data\n",
    "2. ✓ Loaded and validated data\n",
    "3. ✓ Configured a simple backtest\n",
    "4. ✓ Ran an equal-weight portfolio backtest\n",
    "5. ✓ Analyzed results and generated reports\n",
    "\n",
    "Next steps:\n",
    "- Try notebook 02 for target positions with hedging\n",
    "- Try notebook 03 for signal-based strategies\n",
    "- Try notebook 04 for risk-managed portfolios"
   ]
  }
 ],
 "metadata": {
  "kernelspec": {
   "display_name": "base",
   "language": "python",
   "name": "python3"
  },
  "language_info": {
   "codemirror_mode": {
    "name": "ipython",
    "version": 3
   },
   "file_extension": ".py",
   "mimetype": "text/x-python",
   "name": "python",
   "nbconvert_exporter": "python",
   "pygments_lexer": "ipython3",
   "version": "3.12.2"
  }
 },
 "nbformat": 4,
 "nbformat_minor": 4
}
