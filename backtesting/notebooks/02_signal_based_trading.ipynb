{
 "cells": [
  {
   "cell_type": "markdown",
   "metadata": {},
   "source": [
    "# Signal-Based Trading Strategy (Use Case 2)\n",
    "\n",
    "This notebook demonstrates:\n",
    "1. Converting alpha signals to positions\n",
    "2. Signal scaling methods\n",
    "3. Long/short portfolio construction\n",
    "4. Beta hedging\n",
    "5. Performance analysis and attribution"
   ]
  },
  {
   "cell_type": "code",
   "execution_count": null,
   "metadata": {},
   "outputs": [],
   "source": [
    "import sys\n",
    "sys.path.append('..')\n",
    "\n",
    "import pandas as pd\n",
    "import numpy as np\n",
    "import matplotlib.pyplot as plt\n",
    "\n",
    "from backtesting import Backtester, BacktestConfig, DataManager\n",
    "from backtesting.input_processor import SignalProcessor\n",
    "\n",
    "%matplotlib inline\n",
    "plt.style.use('seaborn-v0_8-darkgrid')"
   ]
  },
  {
   "cell_type": "markdown",
   "metadata": {},
   "source": [
    "## Step 1: Load Data"
   ]
  },
  {
   "cell_type": "code",
   "execution_count": null,
   "metadata": {},
   "outputs": [],
   "source": [
    "data_manager = DataManager(data_dir='../sample_data', use_float32=True)\n",
    "\n",
    "prices = data_manager.load_prices()\n",
    "signals_df = pd.read_csv('../sample_data/signals.csv', index_col=0, parse_dates=True)\n",
    "\n",
    "print(f\"Loaded data for {len(prices.columns)} securities\")\n",
    "print(f\"Signal data shape: {signals_df.shape}\")"
   ]
  },
  {
   "cell_type": "markdown",
   "metadata": {},
   "source": [
    "## Step 2: Explore Signals"
   ]
  },
  {
   "cell_type": "code",
   "execution_count": null,
   "metadata": {},
   "outputs": [],
   "source": [
    "fig, axes = plt.subplots(1, 3, figsize=(15, 4))\n",
    "\n",
    "# Signal distribution\n",
    "axes[0].hist(signals_df.iloc[0], bins=50, edgecolor='black', alpha=0.7)\n",
    "axes[0].set_title('Signal Distribution (Day 1)')\n",
    "axes[0].set_xlabel('Signal Value')\n",
    "axes[0].set_ylabel('Frequency')\n",
    "\n",
    "# Signal time series for a few securities\n",
    "axes[1].plot(signals_df.iloc[:, :5])\n",
    "axes[1].set_title('Signal Time Series (Sample Securities)')\n",
    "axes[1].set_xlabel('Date')\n",
    "axes[1].set_ylabel('Signal')\n",
    "axes[1].axhline(y=0, color='black', linestyle='--', alpha=0.5)\n",
    "\n",
    "# Signal correlation with next-day returns\n",
    "returns = prices.pct_change()\n",
    "correlations = []\n",
    "for col in signals_df.columns:\n",
    "    if col in returns.columns:\n",
    "        corr = signals_df[col].corr(returns[col].shift(-1))\n",
    "        correlations.append(corr)\n",
    "\n",
    "axes[2].hist(correlations, bins=30, edgecolor='black', alpha=0.7)\n",
    "axes[2].set_title('Signal-Return Correlation')\n",
    "axes[2].set_xlabel('Correlation')\n",
    "axes[2].set_ylabel('Frequency')\n",
    "axes[2].axvline(x=0, color='red', linestyle='--', alpha=0.5)\n",
    "\n",
    "plt.tight_layout()\n",
    "plt.show()\n",
    "\n",
    "print(f\"\\nMean signal-return correlation: {np.mean(correlations):.4f}\")"
   ]
  },
  {
   "cell_type": "markdown",
   "metadata": {},
   "source": [
    "## Step 3: Test Signal Processing\n",
    "\n",
    "Let's test different signal scaling methods."
   ]
  },
  {
   "cell_type": "code",
   "execution_count": null,
   "metadata": {},
   "outputs": [],
   "source": [
    "# Get sample signals for one day\n",
    "sample_date = signals_df.index[50]\n",
    "sample_signals = signals_df.loc[sample_date].to_dict()\n",
    "sample_prices = prices.loc[sample_date].to_dict()\n",
    "\n",
    "portfolio_value = 10_000_000\n",
    "\n",
    "# Test different scaling methods\n",
    "scaling_methods = ['linear', 'rank', 'zscore']\n",
    "\n",
    "fig, axes = plt.subplots(1, 3, figsize=(15, 4))\n",
    "\n",
    "for i, method in enumerate(scaling_methods):\n",
    "    processor = SignalProcessor(\n",
    "        scaling_method=method,\n",
    "        target_gross_exposure=1.0,\n",
    "        long_short=True\n",
    "    )\n",
    "    \n",
    "    shares, notional, weights = processor.process_signals(\n",
    "        sample_signals, sample_prices, portfolio_value\n",
    "    )\n",
    "    \n",
    "    # Plot weight distribution\n",
    "    axes[i].hist(list(weights.values()), bins=50, edgecolor='black', alpha=0.7)\n",
    "    axes[i].set_title(f'{method.title()} Scaling')\n",
    "    axes[i].set_xlabel('Weight')\n",
    "    axes[i].set_ylabel('Frequency')\n",
    "    axes[i].axvline(x=0, color='red', linestyle='--', alpha=0.5)\n",
    "    \n",
    "    gross_exp = sum(abs(w) for w in weights.values())\n",
    "    net_exp = sum(weights.values())\n",
    "    axes[i].text(0.05, 0.95, f'Gross: {gross_exp:.2f}\\nNet: {net_exp:.4f}',\n",
    "                transform=axes[i].transAxes, va='top',\n",
    "                bbox=dict(boxstyle='round', facecolor='wheat', alpha=0.5))\n",
    "\n",
    "plt.tight_layout()\n",
    "plt.show()"
   ]
  },
  {
   "cell_type": "markdown",
   "metadata": {},
   "source": [
    "## Step 4: Configure and Run Signal-Based Backtest"
   ]
  },
  {
   "cell_type": "code",
   "execution_count": null,
   "metadata": {},
   "outputs": [],
   "source": [
    "# Configuration with beta hedging\n",
    "config = BacktestConfig(\n",
    "    initial_cash=10_000_000,\n",
    "    max_adv_participation=0.05,\n",
    "    tc_power=1.5,\n",
    "    tc_coefficient=0.01,\n",
    "    enable_beta_hedge=True,  # Enable beta hedging\n",
    "    beta_hedge_instrument='SPY',\n",
    "    target_beta=0.0,  # Market neutral\n",
    "    enable_sector_hedge=False,\n",
    "    risk_free_rate=0.02\n",
    ")\n",
    "\n",
    "# Prepare inputs - convert signals to dict format\n",
    "signals_by_date = {\n",
    "    date: signals_df.loc[date].to_dict()\n",
    "    for date in signals_df.index\n",
    "}\n",
    "\n",
    "inputs = {\n",
    "    'signals': signals_by_date\n",
    "}\n",
    "\n",
    "# Run backtest\n",
    "backtester = Backtester(config, data_manager)\n",
    "\n",
    "results = backtester.run(\n",
    "    start_date=pd.Timestamp('2023-01-01'),\n",
    "    end_date=pd.Timestamp('2023-12-31'),\n",
    "    use_case=2,  # Signal-based\n",
    "    inputs=inputs,\n",
    "    show_progress=True\n",
    ")"
   ]
  },
  {
   "cell_type": "markdown",
   "metadata": {},
   "source": [
    "## Step 5: Analyze Performance"
   ]
  },
  {
   "cell_type": "code",
   "execution_count": null,
   "metadata": {},
   "outputs": [],
   "source": [
    "# Print summary\n",
    "results.print_summary()\n",
    "\n",
    "metrics = results.calculate_metrics()\n",
    "\n",
    "print(f\"\\nStrategy Characteristics:\")\n",
    "print(f\"  Sharpe Ratio: {metrics['sharpe_ratio']:.2f}\")\n",
    "print(f\"  Sortino Ratio: {metrics['sortino_ratio']:.2f}\")\n",
    "print(f\"  Max Drawdown: {metrics['max_drawdown']:.2%}\")\n",
    "print(f\"  Calmar Ratio: {metrics['calmar_ratio']:.2f}\")\n",
    "print(f\"  Win Rate: {metrics['win_rate']:.2%}\")\n",
    "print(f\"  Profit Factor: {metrics['profit_factor']:.2f}\")"
   ]
  },
  {
   "cell_type": "markdown",
   "metadata": {},
   "source": [
    "## Step 6: Detailed Visualization"
   ]
  },
  {
   "cell_type": "code",
   "execution_count": null,
   "metadata": {},
   "outputs": [],
   "source": [
    "results_df = results.to_dataframe()\n",
    "\n",
    "fig = plt.figure(figsize=(16, 12))\n",
    "gs = fig.add_gridspec(4, 2, hspace=0.3, wspace=0.3)\n",
    "\n",
    "# Cumulative returns\n",
    "ax1 = fig.add_subplot(gs[0, :])\n",
    "cum_returns = (results_df['portfolio_value'] / results_df['portfolio_value'].iloc[0] - 1) * 100\n",
    "ax1.plot(results_df['date'], cum_returns, linewidth=2)\n",
    "ax1.fill_between(results_df['date'], 0, cum_returns, alpha=0.3)\n",
    "ax1.set_title('Cumulative Returns', fontsize=14, fontweight='bold')\n",
    "ax1.set_ylabel('Return (%)')\n",
    "ax1.grid(True, alpha=0.3)\n",
    "ax1.axhline(y=0, color='black', linestyle='--', alpha=0.5)\n",
    "\n",
    "# Drawdown\n",
    "ax2 = fig.add_subplot(gs[1, 0])\n",
    "values = results_df['portfolio_value'].values\n",
    "running_max = np.maximum.accumulate(values)\n",
    "drawdowns = (values - running_max) / running_max * 100\n",
    "ax2.fill_between(results_df['date'], drawdowns, 0, alpha=0.7, color='red')\n",
    "ax2.plot(results_df['date'], drawdowns, color='darkred', linewidth=1)\n",
    "ax2.set_title('Drawdown')\n",
    "ax2.set_ylabel('Drawdown (%)')\n",
    "ax2.grid(True, alpha=0.3)\n",
    "\n",
    "# Daily returns distribution\n",
    "ax3 = fig.add_subplot(gs[1, 1])\n",
    "daily_returns = results_df['daily_return'].values * 100\n",
    "ax3.hist(daily_returns, bins=50, edgecolor='black', alpha=0.7)\n",
    "ax3.axvline(x=np.mean(daily_returns), color='red', linestyle='--',\n",
    "            label=f'Mean: {np.mean(daily_returns):.3f}%')\n",
    "ax3.set_title('Daily Return Distribution')\n",
    "ax3.set_xlabel('Daily Return (%)')\n",
    "ax3.set_ylabel('Frequency')\n",
    "ax3.legend()\n",
    "ax3.grid(True, alpha=0.3, axis='y')\n",
    "\n",
    "# Gross vs Net exposure\n",
    "ax4 = fig.add_subplot(gs[2, 0])\n",
    "ax4.plot(results_df['date'], results_df['gross_exposure'], label='Gross', linewidth=2)\n",
    "ax4.plot(results_df['date'], results_df['net_exposure'], label='Net', linewidth=2)\n",
    "ax4.set_title('Portfolio Exposures')\n",
    "ax4.set_ylabel('Exposure ($)')\n",
    "ax4.legend()\n",
    "ax4.grid(True, alpha=0.3)\n",
    "\n",
    "# Transaction costs\n",
    "ax5 = fig.add_subplot(gs[2, 1])\n",
    "cum_costs = results_df['transaction_cost'].cumsum()\n",
    "ax5.plot(results_df['date'], cum_costs, linewidth=2, color='purple')\n",
    "ax5.set_title('Cumulative Transaction Costs')\n",
    "ax5.set_ylabel('Cost ($)')\n",
    "ax5.grid(True, alpha=0.3)\n",
    "total_cost = cum_costs.iloc[-1]\n",
    "total_return_dollars = results_df['portfolio_value'].iloc[-1] - results_df['portfolio_value'].iloc[0]\n",
    "cost_ratio = total_cost / abs(total_return_dollars) if total_return_dollars != 0 else 0\n",
    "ax5.text(0.05, 0.95, f'Total: ${total_cost:,.0f}\\nCost/Return: {cost_ratio:.2%}',\n",
    "        transform=ax5.transAxes, va='top',\n",
    "        bbox=dict(boxstyle='round', facecolor='wheat', alpha=0.5))\n",
    "\n",
    "# Rolling Sharpe\n",
    "ax6 = fig.add_subplot(gs[3, :])\n",
    "returns_series = pd.Series(daily_returns, index=results_df['date'].iloc[1:])\n",
    "rolling_sharpe = (returns_series.rolling(60).mean() / returns_series.rolling(60).std()) * np.sqrt(252)\n",
    "ax6.plot(rolling_sharpe.index, rolling_sharpe.values, linewidth=2)\n",
    "ax6.axhline(y=0, color='black', linestyle='--', alpha=0.5)\n",
    "ax6.set_title('60-Day Rolling Sharpe Ratio')\n",
    "ax6.set_xlabel('Date')\n",
    "ax6.set_ylabel('Sharpe Ratio')\n",
    "ax6.grid(True, alpha=0.3)\n",
    "\n",
    "plt.show()"
   ]
  },
  {
   "cell_type": "markdown",
   "metadata": {},
   "source": [
    "## Step 7: Factor Attribution Analysis"
   ]
  },
  {
   "cell_type": "code",
   "execution_count": null,
   "metadata": {},
   "outputs": [],
   "source": [
    "# Get factor attribution\n",
    "factor_pnl = results.get_factor_attribution()\n",
    "\n",
    "if factor_pnl is not None and not factor_pnl.empty:\n",
    "    # Cumulative factor PnL\n",
    "    cum_factor_pnl = factor_pnl.cumsum()\n",
    "    \n",
    "    fig, axes = plt.subplots(1, 2, figsize=(15, 5))\n",
    "    \n",
    "    # Time series\n",
    "    for col in cum_factor_pnl.columns:\n",
    "        axes[0].plot(cum_factor_pnl.index, cum_factor_pnl[col], label=col, linewidth=2)\n",
    "    axes[0].set_title('Cumulative Factor PnL')\n",
    "    axes[0].set_xlabel('Date')\n",
    "    axes[0].set_ylabel('Cumulative PnL ($)')\n",
    "    axes[0].legend()\n",
    "    axes[0].grid(True, alpha=0.3)\n",
    "    \n",
    "    # Contribution breakdown\n",
    "    total_pnl_by_factor = factor_pnl.sum()\n",
    "    total = total_pnl_by_factor.sum()\n",
    "    contributions = (total_pnl_by_factor / total * 100) if total != 0 else total_pnl_by_factor\n",
    "    \n",
    "    axes[1].bar(range(len(contributions)), contributions.values)\n",
    "    axes[1].set_title('Factor Contribution to Total PnL')\n",
    "    axes[1].set_xlabel('Factor')\n",
    "    axes[1].set_ylabel('Contribution (%)')\n",
    "    axes[1].set_xticks(range(len(contributions)))\n",
    "    axes[1].set_xticklabels(contributions.index, rotation=45, ha='right')\n",
    "    axes[1].grid(True, alpha=0.3, axis='y')\n",
    "    axes[1].axhline(y=0, color='black', linestyle='--', alpha=0.5)\n",
    "    \n",
    "    plt.tight_layout()\n",
    "    plt.show()\n",
    "    \n",
    "    print(\"\\nFactor Contributions:\")\n",
    "    for factor, contrib in contributions.items():\n",
    "        print(f\"  {factor}: {contrib:.2f}%\")\n",
    "else:\n",
    "    print(\"No factor attribution data available.\")"
   ]
  },
  {
   "cell_type": "markdown",
   "metadata": {},
   "source": [
    "## Step 8: Generate Reports"
   ]
  },
  {
   "cell_type": "code",
   "execution_count": null,
   "metadata": {},
   "outputs": [],
   "source": [
    "results.generate_full_report(\n",
    "    output_dir='../output/signal_strategy',\n",
    "    formats=['html', 'excel', 'csv']\n",
    ")\n",
    "\n",
    "print(\"\\nReports saved to '../output/signal_strategy'\")"
   ]
  },
  {
   "cell_type": "markdown",
   "metadata": {},
   "source": [
    "## Summary\n",
    "\n",
    "In this notebook, we:\n",
    "1. ✓ Loaded and explored alpha signals\n",
    "2. ✓ Tested different signal scaling methods\n",
    "3. ✓ Ran a signal-based long/short strategy with beta hedging\n",
    "4. ✓ Analyzed comprehensive performance metrics\n",
    "5. ✓ Examined factor attribution\n",
    "6. ✓ Generated detailed reports\n",
    "\n",
    "Key Takeaways:\n",
    "- Beta hedging helps create market-neutral returns\n",
    "- Signal scaling method affects portfolio construction\n",
    "- Factor attribution helps understand return sources\n",
    "- Transaction costs are an important consideration"
   ]
  }
 ],
 "metadata": {
  "kernelspec": {
   "display_name": "base",
   "language": "python",
   "name": "python3"
  },
  "language_info": {
   "name": "python",
   "version": "3.12.2"
  }
 },
 "nbformat": 4,
 "nbformat_minor": 4
}
