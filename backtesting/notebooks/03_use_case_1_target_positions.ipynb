{
 "cells": [
  {
   "cell_type": "markdown",
   "metadata": {},
   "source": [
    "# Use Case 1: Target Positions with Hedging\n",
    "\n",
    "This notebook demonstrates:\n",
    "1. Using target positions (shares, notional, weights)\n",
    "2. Beta hedging for market neutrality\n",
    "3. Sector hedging for sector neutrality\n",
    "4. Comparing hedged vs unhedged performance"
   ]
  },
  {
   "cell_type": "code",
   "execution_count": null,
   "metadata": {},
   "outputs": [],
   "source": [
    "import sys\n",
    "sys.path.append('..')\n",
    "\n",
    "import pandas as pd\n",
    "import numpy as np\n",
    "import matplotlib.pyplot as plt\n",
    "\n",
    "from backtesting import Backtester, BacktestConfig, DataManager\n",
    "from backtesting.utils import get_date_range\n",
    "from notebooks.notebook_utils import setup_plotting_style, plot_results_summary\n",
    "\n",
    "%matplotlib inline\n",
    "setup_plotting_style()"
   ]
  },
  {
   "cell_type": "markdown",
   "metadata": {},
   "source": [
    "## Load Data"
   ]
  },
  {
   "cell_type": "code",
   "execution_count": null,
   "metadata": {},
   "outputs": [],
   "source": [
    "data_manager = DataManager(data_dir='../sample_data', use_float32=True)\n",
    "prices = data_manager.load_prices()\n",
    "\n",
    "# Get date range\n",
    "start_date = prices.index[0]\n",
    "end_date = prices.index[-1]\n",
    "\n",
    "print(f\"Data loaded: {len(prices.columns)} securities\")\n",
    "print(f\"Date range: {start_date.date()} to {end_date.date()}\")"
   ]
  },
  {
   "cell_type": "markdown",
   "metadata": {},
   "source": [
    "## Example 1: Target Weights (No Hedging)"
   ]
  },
  {
   "cell_type": "code",
   "execution_count": null,
   "metadata": {},
   "outputs": [],
   "source": [
    "# Load equal-weight targets\n",
    "target_weights = pd.read_csv('../sample_data/target_weights.csv',\n",
    "                              index_col=0, parse_dates=True)\n",
    "target_weights = target_weights.loc[start_date:end_date]\n",
    "\n",
    "targets_by_date = {\n",
    "    date: target_weights.loc[date].to_dict()\n",
    "    for date in target_weights.index\n",
    "}\n",
    "\n",
    "inputs = {'type': 'weights', 'targets': targets_by_date}\n",
    "\n",
    "# Configure without hedging\n",
    "config_no_hedge = BacktestConfig(\n",
    "    initial_cash=10_000_000,\n",
    "    max_adv_participation=0.05,\n",
    "    enable_beta_hedge=False,\n",
    "    enable_sector_hedge=False,\n",
    "    risk_free_rate=0.02\n",
    ")\n",
    "\n",
    "# Run backtest\n",
    "print(\"Running backtest WITHOUT hedging...\")\n",
    "backtester = Backtester(config_no_hedge, data_manager)\n",
    "results_no_hedge = backtester.run(\n",
    "    start_date=start_date,\n",
    "    end_date=end_date,\n",
    "    use_case=1,\n",
    "    inputs=inputs,\n",
    "    show_progress=True\n",
    ")"
   ]
  },
  {
   "cell_type": "markdown",
   "metadata": {},
   "source": [
    "## Example 2: Target Weights with Beta Hedging"
   ]
  },
  {
   "cell_type": "code",
   "execution_count": null,
   "metadata": {},
   "outputs": [],
   "source": [
    "# Configure with beta hedging\n",
    "config_beta_hedge = BacktestConfig(\n",
    "    initial_cash=10_000_000,\n",
    "    max_adv_participation=0.05,\n",
    "    enable_beta_hedge=True,\n",
    "    beta_hedge_instrument='SPY',\n",
    "    target_beta=0.0,  # Market neutral\n",
    "    enable_sector_hedge=False,\n",
    "    risk_free_rate=0.02\n",
    ")\n",
    "\n",
    "# Run backtest\n",
    "print(\"\\nRunning backtest WITH beta hedging...\")\n",
    "backtester = Backtester(config_beta_hedge, data_manager)\n",
    "results_beta_hedge = backtester.run(\n",
    "    start_date=start_date,\n",
    "    end_date=end_date,\n",
    "    use_case=1,\n",
    "    inputs=inputs,\n",
    "    show_progress=True\n",
    ")"
   ]
  },
  {
   "cell_type": "markdown",
   "metadata": {},
   "source": [
    "## Example 3: Target Weights with Sector Hedging"
   ]
  },
  {
   "cell_type": "code",
   "execution_count": null,
   "metadata": {},
   "outputs": [],
   "source": [
    "# Configure with sector hedging\n",
    "config_sector_hedge = BacktestConfig(\n",
    "    initial_cash=10_000_000,\n",
    "    max_adv_participation=0.05,\n",
    "    enable_beta_hedge=False,\n",
    "    enable_sector_hedge=True,\n",
    "    risk_free_rate=0.02\n",
    ")\n",
    "\n",
    "# Run backtest\n",
    "print(\"\\nRunning backtest WITH sector hedging...\")\n",
    "backtester = Backtester(config_sector_hedge, data_manager)\n",
    "results_sector_hedge = backtester.run(\n",
    "    start_date=start_date,\n",
    "    end_date=end_date,\n",
    "    use_case=1,\n",
    "    inputs=inputs,\n",
    "    show_progress=True\n",
    ")"
   ]
  },
  {
   "cell_type": "markdown",
   "metadata": {},
   "source": [
    "## Compare Results"
   ]
  },
  {
   "cell_type": "code",
   "execution_count": null,
   "metadata": {},
   "outputs": [],
   "source": [
    "from notebooks.notebook_utils import compare_strategies\n",
    "\n",
    "compare_strategies(\n",
    "    [results_no_hedge, results_beta_hedge, results_sector_hedge],\n",
    "    ['No Hedge', 'Beta Hedge', 'Sector Hedge'],\n",
    "    metric='sharpe_ratio'\n",
    ")"
   ]
  },
  {
   "cell_type": "markdown",
   "metadata": {},
   "source": [
    "## Analyze Hedge Effectiveness"
   ]
  },
  {
   "cell_type": "code",
   "execution_count": null,
   "metadata": {},
   "outputs": [],
   "source": [
    "# Get metrics for all three\n",
    "metrics_no_hedge = results_no_hedge.calculate_metrics()\n",
    "metrics_beta = results_beta_hedge.calculate_metrics()\n",
    "metrics_sector = results_sector_hedge.calculate_metrics()\n",
    "\n",
    "# Compare\n",
    "comparison_df = pd.DataFrame({\n",
    "    'No Hedge': metrics_no_hedge,\n",
    "    'Beta Hedge': metrics_beta,\n",
    "    'Sector Hedge': metrics_sector\n",
    "})\n",
    "\n",
    "print(\"\\nMetrics Comparison:\")\n",
    "print(comparison_df.loc[['total_return', 'sharpe_ratio', 'max_drawdown', \n",
    "                         'volatility', 'win_rate']].round(4))"
   ]
  },
  {
   "cell_type": "markdown",
   "metadata": {},
   "source": [
    "## Visualize Net Exposure Differences"
   ]
  },
  {
   "cell_type": "code",
   "execution_count": null,
   "metadata": {},
   "outputs": [],
   "source": [
    "fig, axes = plt.subplots(1, 3, figsize=(18, 5))\n",
    "\n",
    "for idx, (results, title) in enumerate([\n",
    "    (results_no_hedge, 'No Hedge'),\n",
    "    (results_beta_hedge, 'Beta Hedge'),\n",
    "    (results_sector_hedge, 'Sector Hedge')\n",
    "]):\n",
    "    df = results.to_dataframe()\n",
    "    \n",
    "    axes[idx].plot(df['date'], df['net_exposure'], label='Net', linewidth=2)\n",
    "    axes[idx].axhline(y=0, color='red', linestyle='--', alpha=0.5)\n",
    "    axes[idx].set_title(title)\n",
    "    axes[idx].set_ylabel('Net Exposure ($)')\n",
    "    axes[idx].grid(True, alpha=0.3)\n",
    "    axes[idx].legend()\n",
    "\n",
    "plt.tight_layout()\n",
    "plt.show()\n",
    "\n",
    "print(\"\\nNote: Beta hedge should keep net exposure closer to zero\")"
   ]
  },
  {
   "cell_type": "markdown",
   "metadata": {},
   "source": [
    "## Example 4: Target Notional"
   ]
  },
  {
   "cell_type": "code",
   "execution_count": null,
   "metadata": {},
   "outputs": [],
   "source": [
    "# Create target notional (dollar amounts)\n",
    "# Each security gets $100,000\n",
    "target_notional_by_date = {}\n",
    "for date in target_weights.index:\n",
    "    target_notional_by_date[date] = {\n",
    "        ticker: 100000.0 for ticker in target_weights.columns\n",
    "    }\n",
    "\n",
    "inputs_notional = {\n",
    "    'type': 'notional',\n",
    "    'targets': target_notional_by_date\n",
    "}\n",
    "\n",
    "# Run with notional targets\n",
    "print(\"\\nRunning with target notional...\")\n",
    "results_notional = backtester.run(\n",
    "    start_date=start_date,\n",
    "    end_date=end_date,\n",
    "    use_case=1,\n",
    "    inputs=inputs_notional,\n",
    "    show_progress=True\n",
    ")\n",
    "\n",
    "results_notional.print_summary()"
   ]
  },
  {
   "cell_type": "markdown",
   "metadata": {},
   "source": [
    "## Generate Reports"
   ]
  },
  {
   "cell_type": "code",
   "execution_count": null,
   "metadata": {},
   "outputs": [],
   "source": [
    "# Generate reports for beta hedge case\n",
    "results_beta_hedge.generate_full_report(\n",
    "    output_dir='../output/use_case_1_beta_hedge',\n",
    "    formats=['html', 'pdf', 'csv']\n",
    ")\n",
    "\n",
    "print(\"Reports saved to ../output/use_case_1_beta_hedge/\")"
   ]
  },
  {
   "cell_type": "markdown",
   "metadata": {},
   "source": [
    "## Summary\n",
    "\n",
    "In this notebook, we explored Use Case 1:\n",
    "1. ✓ Target positions with weights, notional, and shares\n",
    "2. ✓ Beta hedging to achieve market neutrality\n",
    "3. ✓ Sector hedging for sector neutrality\n",
    "4. ✓ Compared hedged vs unhedged performance\n",
    "\n",
    "Key Takeaways:\n",
    "- Beta hedging reduces market exposure (net → 0)\n",
    "- Sector hedging balances sector exposures\n",
    "- Hedging can improve risk-adjusted returns\n",
    "- Transaction costs increase with hedging trades"
   ]
  }
 ],
 "metadata": {
  "kernelspec": {
   "display_name": "base",
   "language": "python",
   "name": "python3"
  },
  "language_info": {
   "codemirror_mode": {
    "name": "ipython",
    "version": 3
   },
   "file_extension": ".py",
   "mimetype": "text/x-python",
   "name": "python",
   "nbconvert_exporter": "python",
   "pygments_lexer": "ipython3",
   "version": "3.12.2"
  }
 },
 "nbformat": 4,
 "nbformat_minor": 4
}
