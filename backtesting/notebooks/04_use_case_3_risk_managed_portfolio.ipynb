{
 "cells": [
  {
   "cell_type": "markdown",
   "metadata": {},
   "source": [
    "# Use Case 3: Risk-Managed Portfolio\n",
    "\n",
    "This notebook demonstrates:\n",
    "1. External trades coming into the portfolio\n",
    "2. Portfolio optimization to meet risk constraints\n",
    "3. Factor exposure limits\n",
    "4. Portfolio variance limits\n",
    "5. Cost minimization subject to constraints"
   ]
  },
  {
   "cell_type": "code",
   "execution_count": null,
   "metadata": {},
   "outputs": [],
   "source": [
    "import sys\n",
    "sys.path.append('..')\n",
    "\n",
    "import pandas as pd\n",
    "import numpy as np\n",
    "import matplotlib.pyplot as plt\n",
    "\n",
    "from backtesting import Backtester, BacktestConfig, DataManager\n",
    "from notebooks.notebook_utils import setup_plotting_style\n",
    "\n",
    "%matplotlib inline\n",
    "setup_plotting_style()"
   ]
  },
  {
   "cell_type": "markdown",
   "metadata": {},
   "source": [
    "## Load Data"
   ]
  },
  {
   "cell_type": "code",
   "execution_count": null,
   "metadata": {},
   "outputs": [],
   "source": [
    "data_manager = DataManager(data_dir='../sample_data', use_float32=True)\n",
    "prices = data_manager.load_prices()\n",
    "\n",
    "# Load factor model data\n",
    "factor_exposures = data_manager.load_factor_exposures()\n",
    "factor_returns = data_manager.load_factor_returns()\n",
    "\n",
    "start_date = prices.index[0]\n",
    "end_date = prices.index[-1]\n",
    "\n",
    "print(f\"Loaded {len(prices.columns)} securities\")\n",
    "print(f\"Factor model: {len(factor_exposures.columns)} factors\")\n",
    "print(f\"Date range: {start_date.date()} to {end_date.date()}\")"
   ]
  },
  {
   "cell_type": "markdown",
   "metadata": {},
   "source": [
    "## Generate External Trades\n",
    "\n",
    "Simulate external trades coming into the portfolio daily."
   ]
  },
  {
   "cell_type": "code",
   "execution_count": null,
   "metadata": {},
   "outputs": [],
   "source": [
    "# Generate random external trades in the correct format for Use Case 3\n",
    "# Use Case 3 expects: {ticker: [{'qty': X, 'price': Y}, ...]}\n",
    "np.random.seed(42)\n",
    "external_trades_by_date = {}\n",
    "\n",
    "for date in prices.index[::5]:  # Every 5 days\n",
    "    # Random subset of securities\n",
    "    n_trades = np.random.randint(5, 20)\n",
    "    trade_tickers = np.random.choice(prices.columns, n_trades, replace=False)\n",
    "    \n",
    "    trades = {}\n",
    "    for ticker in trade_tickers:\n",
    "        # Random trade size\n",
    "        qty = np.random.randint(-1000, 1000)\n",
    "        if qty != 0:\n",
    "            # Get the close price for this ticker on this date\n",
    "            close_price = prices.loc[date, ticker]\n",
    "            \n",
    "            # Format as list of dicts (required for Use Case 3)\n",
    "            trades[ticker] = [{'qty': float(qty), 'price': float(close_price)}]\n",
    "    \n",
    "    if trades:\n",
    "        external_trades_by_date[date] = trades\n",
    "\n",
    "print(f\"\\nGenerated external trades for {len(external_trades_by_date)} days\")\n",
    "print(f\"Sample trade day: {list(external_trades_by_date.keys())[0].date()}\")\n",
    "sample_trades = list(external_trades_by_date.values())[0]\n",
    "print(f\"  Number of trades: {len(sample_trades)}\")\n",
    "print(f\"  Sample trade format: {list(sample_trades.items())[0]}\")"
   ]
  },
  {
   "cell_type": "markdown",
   "metadata": {},
   "source": [
    "## Example 1: No Risk Constraints\n",
    "\n",
    "First, run without risk constraints to see the baseline."
   ]
  },
  {
   "cell_type": "code",
   "execution_count": null,
   "metadata": {},
   "outputs": [],
   "source": [
    "inputs = {'external_trades': external_trades_by_date}\n",
    "\n",
    "# Configure without constraints\n",
    "config_no_constraints = BacktestConfig(\n",
    "    initial_cash=10_000_000,\n",
    "    max_adv_participation=0.05,\n",
    "    risk_free_rate=0.02\n",
    ")\n",
    "\n",
    "print(\"Running WITHOUT risk constraints...\")\n",
    "backtester = Backtester(config_no_constraints, data_manager)\n",
    "results_no_constraints = backtester.run(\n",
    "    start_date=start_date,\n",
    "    end_date=end_date,\n",
    "    use_case=3,\n",
    "    inputs=inputs,\n",
    "    show_progress=True\n",
    ")\n",
    "\n",
    "results_no_constraints.print_summary()"
   ]
  },
  {
   "cell_type": "markdown",
   "metadata": {},
   "source": [
    "## Example 2: With Factor Exposure Limits"
   ]
  },
  {
   "cell_type": "code",
   "execution_count": null,
   "metadata": {},
   "outputs": [],
   "source": [
    "# Configure with factor exposure limits\n",
    "config_factor_limits = BacktestConfig(\n",
    "    initial_cash=10_000_000,\n",
    "    max_adv_participation=0.05,\n",
    "    max_factor_exposure={\n",
    "        'Factor1': 0.1,\n",
    "        'Factor2': 0.15,\n",
    "        'Factor3': 0.1,\n",
    "        'Factor4': 0.15,\n",
    "        'Factor5': 0.1\n",
    "    },\n",
    "    risk_free_rate=0.02\n",
    ")\n",
    "\n",
    "print(\"\\nRunning WITH factor exposure limits...\")\n",
    "backtester = Backtester(config_factor_limits, data_manager)\n",
    "results_factor_limits = backtester.run(\n",
    "    start_date=start_date,\n",
    "    end_date=end_date,\n",
    "    use_case=3,\n",
    "    inputs=inputs,\n",
    "    show_progress=True\n",
    ")\n",
    "\n",
    "results_factor_limits.print_summary()"
   ]
  },
  {
   "cell_type": "markdown",
   "metadata": {},
   "source": [
    "## Example 3: With Portfolio Variance Limit"
   ]
  },
  {
   "cell_type": "code",
   "execution_count": null,
   "metadata": {},
   "outputs": [],
   "source": [
    "# Configure with variance limit\n",
    "config_variance_limit = BacktestConfig(\n",
    "    initial_cash=10_000_000,\n",
    "    max_adv_participation=0.05,\n",
    "    max_portfolio_variance=0.0005,  # Variance limit\n",
    "    risk_free_rate=0.02\n",
    ")\n",
    "\n",
    "print(\"\\nRunning WITH portfolio variance limit...\")\n",
    "backtester = Backtester(config_variance_limit, data_manager)\n",
    "results_variance_limit = backtester.run(\n",
    "    start_date=start_date,\n",
    "    end_date=end_date,\n",
    "    use_case=3,\n",
    "    inputs=inputs,\n",
    "    show_progress=True\n",
    ")\n",
    "\n",
    "results_variance_limit.print_summary()"
   ]
  },
  {
   "cell_type": "markdown",
   "metadata": {},
   "source": [
    "## Compare Results"
   ]
  },
  {
   "cell_type": "code",
   "execution_count": null,
   "metadata": {},
   "outputs": [],
   "source": [
    "from notebooks.notebook_utils import compare_strategies\n",
    "\n",
    "compare_strategies(\n",
    "    [results_no_constraints, results_factor_limits, results_variance_limit],\n",
    "    ['No Constraints', 'Factor Limits', 'Variance Limit'],\n",
    "    metric='sharpe_ratio'\n",
    ")"
   ]
  },
  {
   "cell_type": "markdown",
   "metadata": {},
   "source": [
    "## Analyze Transaction Costs\n",
    "\n",
    "The optimizer minimizes costs while meeting constraints."
   ]
  },
  {
   "cell_type": "code",
   "execution_count": null,
   "metadata": {},
   "outputs": [],
   "source": [
    "fig, axes = plt.subplots(1, 3, figsize=(18, 5))\n",
    "\n",
    "for idx, (results, title) in enumerate([\n",
    "    (results_no_constraints, 'No Constraints'),\n",
    "    (results_factor_limits, 'Factor Limits'),\n",
    "    (results_variance_limit, 'Variance Limit')\n",
    "]):\n",
    "    df = results.to_dataframe()\n",
    "    cum_costs = df['transaction_cost'].cumsum()\n",
    "    \n",
    "    axes[idx].plot(df['date'], cum_costs, linewidth=2)\n",
    "    axes[idx].set_title(title)\n",
    "    axes[idx].set_ylabel('Cumulative Cost ($)')\n",
    "    axes[idx].grid(True, alpha=0.3)\n",
    "    \n",
    "    total_cost = cum_costs.iloc[-1]\n",
    "    axes[idx].text(0.05, 0.95, f'Total: ${total_cost:,.0f}',\n",
    "                  transform=axes[idx].transAxes, va='top',\n",
    "                  bbox=dict(boxstyle='round', facecolor='wheat', alpha=0.5))\n",
    "\n",
    "plt.tight_layout()\n",
    "plt.show()\n",
    "\n",
    "print(\"\\nNote: Constrained portfolios may have higher costs due to rebalancing trades\")"
   ]
  },
  {
   "cell_type": "markdown",
   "metadata": {},
   "source": [
    "## Analyze Risk Over Time"
   ]
  },
  {
   "cell_type": "code",
   "execution_count": null,
   "metadata": {},
   "outputs": [],
   "source": [
    "fig, axes = plt.subplots(2, 1, figsize=(15, 10))\n",
    "\n",
    "# Plot volatility\n",
    "for results, label in [\n",
    "    (results_no_constraints, 'No Constraints'),\n",
    "    (results_factor_limits, 'Factor Limits'),\n",
    "    (results_variance_limit, 'Variance Limit')\n",
    "]:\n",
    "    df = results.to_dataframe()\n",
    "    returns = df['daily_return']\n",
    "    rolling_vol = returns.rolling(20).std() * np.sqrt(252)\n",
    "    \n",
    "    axes[0].plot(df['date'].iloc[20:], rolling_vol.iloc[20:], \n",
    "                label=label, linewidth=2, alpha=0.7)\n",
    "\n",
    "axes[0].set_title('20-Day Rolling Volatility (Annualized)')\n",
    "axes[0].set_ylabel('Volatility')\n",
    "axes[0].legend()\n",
    "axes[0].grid(True, alpha=0.3)\n",
    "\n",
    "# Plot net exposure\n",
    "for results, label in [\n",
    "    (results_no_constraints, 'No Constraints'),\n",
    "    (results_factor_limits, 'Factor Limits'),\n",
    "    (results_variance_limit, 'Variance Limit')\n",
    "]:\n",
    "    df = results.to_dataframe()\n",
    "    axes[1].plot(df['date'], df['net_exposure'], \n",
    "                label=label, linewidth=2, alpha=0.7)\n",
    "\n",
    "axes[1].set_title('Net Exposure')\n",
    "axes[1].set_ylabel('Exposure ($)')\n",
    "axes[1].legend()\n",
    "axes[1].grid(True, alpha=0.3)\n",
    "axes[1].axhline(y=0, color='red', linestyle='--', alpha=0.5)\n",
    "\n",
    "plt.tight_layout()\n",
    "plt.show()"
   ]
  },
  {
   "cell_type": "markdown",
   "metadata": {},
   "source": [
    "## Generate Reports"
   ]
  },
  {
   "cell_type": "code",
   "execution_count": null,
   "metadata": {},
   "outputs": [],
   "source": [
    "results_factor_limits.generate_full_report(\n",
    "    output_dir='../output/use_case_3_risk_managed',\n",
    "    formats=['html', 'excel', 'csv']\n",
    ")\n",
    "\n",
    "print(\"Reports saved to ../output/use_case_3_risk_managed/\")"
   ]
  },
  {
   "cell_type": "markdown",
   "metadata": {},
   "source": [
    "## Summary\n",
    "\n",
    "In this notebook, we explored Use Case 3:\n",
    "1. ✓ External trades coming into the portfolio\n",
    "2. ✓ Portfolio optimization to meet constraints\n",
    "3. ✓ Factor exposure limits\n",
    "4. ✓ Portfolio variance limits\n",
    "5. ✓ Cost minimization\n",
    "\n",
    "Key Takeaways:\n",
    "- Optimizer finds minimum-cost solution to meet constraints\n",
    "- Factor limits control exposure to risk factors\n",
    "- Variance limits control overall portfolio risk\n",
    "- Trade-off between costs and risk management\n",
    "- Constrained portfolios may have higher transaction costs"
   ]
  }
 ],
 "metadata": {
  "kernelspec": {
   "display_name": "base",
   "language": "python",
   "name": "python3"
  },
  "language_info": {
   "codemirror_mode": {
    "name": "ipython",
    "version": 3
   },
   "file_extension": ".py",
   "mimetype": "text/x-python",
   "name": "python",
   "nbconvert_exporter": "python",
   "pygments_lexer": "ipython3",
   "version": "3.12.2"
  }
 },
 "nbformat": 4,
 "nbformat_minor": 4
}
